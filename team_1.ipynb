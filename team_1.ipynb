{
  "nbformat": 4,
  "nbformat_minor": 0,
  "metadata": {
    "colab": {
      "name": "team 1.ipynb",
      "private_outputs": true,
      "provenance": [],
      "collapsed_sections": [
        "jx_FnF6HFucc"
      ]
    },
    "kernelspec": {
      "display_name": "Python [conda env:root] *",
      "language": "python",
      "name": "conda-root-py"
    },
    "language_info": {
      "codemirror_mode": {
        "name": "ipython",
        "version": 2
      },
      "file_extension": ".py",
      "mimetype": "text/x-python",
      "name": "python",
      "nbconvert_exporter": "python",
      "pygments_lexer": "ipython2",
      "version": "2.7.16"
    }
  },
  "cells": [
    {
      "cell_type": "markdown",
      "metadata": {
        "id": "view-in-github"
      },
      "source": [
        "<a href=\"https://colab.research.google.com/github/google/applied-machine-learning-intensive/blob/master/content/02_data/06_project_data_processing/colab.ipynb\" target=\"_parent\"><img src=\"https://colab.research.google.com/assets/colab-badge.svg\" alt=\"Open In Colab\"/></a>"
      ]
    },
    {
      "cell_type": "markdown",
      "metadata": {
        "id": "jx_FnF6HFucc"
      },
      "source": [
        "#### Copyright 2019 Google LLC."
      ]
    },
    {
      "cell_type": "code",
      "metadata": {
        "id": "cSdG7cSNFro-"
      },
      "source": [
        "# Licensed under the Apache License, Version 2.0 (the \"License\");\n",
        "# you may not use this file except in compliance with the License.\n",
        "# You may obtain a copy of the License at\n",
        "#\n",
        "# https://www.apache.org/licenses/LICENSE-2.0\n",
        "#\n",
        "# Unless required by applicable law or agreed to in writing, software\n",
        "# distributed under the License is distributed on an \"AS IS\" BASIS,\n",
        "# WITHOUT WARRANTIES OR CONDITIONS OF ANY KIND, either express or implied.\n",
        "# See the License for the specific language governing permissions and\n",
        "# limitations under the License."
      ],
      "execution_count": null,
      "outputs": []
    },
    {
      "cell_type": "markdown",
      "metadata": {
        "id": "_FdRu8E0F6EJ"
      },
      "source": [
        "# Dataset Exploration\n"
      ]
    },
    {
      "cell_type": "markdown",
      "metadata": {
        "id": "Mm5d3zEpKE00"
      },
      "source": [
        "For this project you will be given a dataset and an associated problem. Over the course of the day, you will explore the dataset and train the best model you can in order to solve the problem. At the end of the day, you will give a short presentation about your model and solution."
      ]
    },
    {
      "cell_type": "markdown",
      "metadata": {
        "id": "Nb9YD_6cWefp"
      },
      "source": [
        "### Deliverables\n",
        "\n",
        "1. A **copy of this Colab notebook** containing your code and responses to the ethical considerations below.\n",
        "1. At the end of the day, we will ask you and your group to stand in front of the class and give a brief **presentation about what you have done**. "
      ]
    },
    {
      "cell_type": "markdown",
      "metadata": {
        "id": "JzEoFw-TPi7r"
      },
      "source": [
        "## Team\n",
        "\n",
        "Please enter your team members' names in the placeholders in this text area:\n",
        "\n",
        "*   *Alejandra Berroso*\n",
        "*   *A'Darius Lee*\n",
        "*   *Sam Lefforge*\n",
        "\n"
      ]
    },
    {
      "cell_type": "markdown",
      "metadata": {
        "id": "a0-9HPLU43Xf"
      },
      "source": [
        "# Exercises"
      ]
    },
    {
      "cell_type": "markdown",
      "metadata": {
        "id": "8rqFJ-Ch4_mU"
      },
      "source": [
        "## Exercise 1: Coding"
      ]
    },
    {
      "cell_type": "markdown",
      "metadata": {
        "id": "cr12EFb2WQym"
      },
      "source": [
        "[Kaggle](http://www.kaggle.com) hosts a [dataset containing US airline on-time statistics and delay data](https://www.kaggle.com/giovamata/airlinedelaycauses) from the [US Department of Transportation's Bureau of Transportation Statistics (BTS)](https://www.bts.gov/). In this project, we will **use flight statistics data to gain insights into US airports' and airlines' flights in 2008.**\n",
        "\n",
        "You are free to use any toolkit we've covered in class to solve the problem (e.g. Pandas, Matplotlib, Seaborn).\n",
        "\n",
        "Demonstrations of competency:\n",
        "1. Get the data into a Python object.\n",
        "1. Inspect the data for each column's data type and summary statistics.\n",
        "1. Explore the data programmatically and visually.\n",
        "1. Produce an answer and visualization, where applicable, for at least three questions from the list below, and discuss any relevant insights. Feel free to generate and answer some of your own questions. \n",
        "\n",
        "  * Which U.S. airport is the busiest airport? You can decide how you'd like to measure \"business\" (e.g., annually, monthly, daily).\n",
        "  * Of the 2008 flights that are *actually delayed*, think about:\n",
        "    * Which 10 U.S. airlines have the most delays?\n",
        "    * Which 10 U.S. airlines have the longest average delay time?\n",
        "    * Which 10 U.S. airports have the most delays?\n",
        "    * Which 10 U.S. airports have the longest average delay time?\n",
        "  * More analysis:\n",
        "    * Are there patterns on how flight delays are distributed across different hours of the day?\n",
        "    * How about across months or seasons? Can you think of any reasons for these seasonal delays?\n",
        "    * If you look at average delay time or number of delays by airport, does the data show linearity? Does any subset of the data show linearity?\n",
        "    * Add reason for delay to your delay analysis above.\n",
        "    * Examine flight frequencies, delays, time of day or year, etc. for a specific airport, airline or origin-arrival airport pair."
      ]
    },
    {
      "cell_type": "markdown",
      "metadata": {
        "id": "WgFU38b7rfbv"
      },
      "source": [
        "### Student Solution"
      ]
    },
    {
      "cell_type": "markdown",
      "metadata": {
        "id": "0VuEfyA1QAX-"
      },
      "source": [
        "Get the data into a python object."
      ]
    },
    {
      "cell_type": "code",
      "metadata": {
        "id": "wOdOl0qqPyL-"
      },
      "source": [
        "import pandas as pd\n",
        "import zipfile\n",
        "\n",
        "# Get the data into a Python object.\n",
        "!chmod 600 kaggle.json && (ls ~/.kaggle 2>/dev/null || mkdir ~/.kaggle) && mv kaggle.json ~/.kaggle/ && echo 'Done'\n",
        "!kaggle datasets download giovamata/airlinedelaycauses\n",
        "\n",
        "zip = zipfile.ZipFile('airlinedelaycauses.zip')\n",
        "zip.extractall()\n",
        "flights_df = pd.read_csv('DelayedFlights.csv')"
      ],
      "execution_count": null,
      "outputs": []
    },
    {
      "cell_type": "markdown",
      "metadata": {
        "id": "zjDbgsMDQFrV"
      },
      "source": [
        "Inspect the data for each column's data type and summary statistics."
      ]
    },
    {
      "cell_type": "code",
      "metadata": {
        "id": "a4fkXHC8QHNI"
      },
      "source": [
        "# Inspect the data for each column's data type and summary statistics.\n",
        "print(flights_df.dtypes)\n",
        "print(flights_df.describe())\n",
        "flights_df.tail(20)"
      ],
      "execution_count": null,
      "outputs": []
    },
    {
      "cell_type": "markdown",
      "metadata": {
        "id": "dIQRAbRSQJcj"
      },
      "source": [
        "Explore the data programmatically and visually."
      ]
    },
    {
      "cell_type": "code",
      "metadata": {
        "id": "CONnEgHeQJGl"
      },
      "source": [
        "# Explore the data programmatically and visually.\n",
        "\n",
        "print(flights_df.tail(20))\n",
        "# Visually, it is clear that ArrTime, ActualElapsedTime, CRSElapsedTime, \n",
        "# AirTime, ArrDelay, TaxiIn, CarrierDelay, WeatherDelay, NASDelay, \n",
        "# SecurityDelay, and LateAircraftDelay have missing data\n",
        "\n",
        "print(flights_df.columns[flights_df.isnull().any()]) # Confirmation\n",
        "\n",
        "# The columns signifying some type of delay, most values are 0, so I'm going\n",
        "# to fill in missing values with 0\n",
        "flights_df['ArrDelay'] = flights_df['ArrDelay'].fillna(0)\n",
        "flights_df['CarrierDelay'] = flights_df['CarrierDelay'].fillna(0)\n",
        "flights_df['WeatherDelay'] = flights_df['WeatherDelay'].fillna(0)\n",
        "flights_df['NASDelay'] = flights_df['NASDelay'].fillna(0)\n",
        "flights_df['SecurityDelay'] = flights_df['SecurityDelay'].fillna(0)\n",
        "flights_df['LateAircraftDelay'] = flights_df['LateAircraftDelay'].fillna(0)\n",
        "\n",
        "# Now missing datas are pretty sparse, so I'm just going to drop the\n",
        "# remianing rows that have missing values\n",
        "flights_df.dropna(inplace= True)\n",
        "flights_df = flights_df.reset_index()"
      ],
      "execution_count": null,
      "outputs": []
    },
    {
      "cell_type": "markdown",
      "metadata": {
        "id": "IRI4f8pVQN7r"
      },
      "source": [
        "Produce an answer and visualization, where applicable, for at least three questions from the list below, and discuss any relevant insights. Feel free to generate and answer some of your own questions."
      ]
    },
    {
      "cell_type": "markdown",
      "metadata": {
        "id": "maU0BSU5b-2r"
      },
      "source": [
        "  * Which U.S. airport is the busiest airport? You can decide how you'd like to measure \"business\" (e.g., annually, monthly, daily)."
      ]
    },
    {
      "cell_type": "code",
      "metadata": {
        "id": "fRZ14MIKQQui"
      },
      "source": [
        "import pandas as pd\n",
        "import matplotlib.pyplot as plt\n",
        "tests = flights_df.groupby(flights_df['UniqueCarrier']).size().reset_index(name = 'delays')\n",
        "tests\n",
        "#tests_pd = tests.sort_values(by=\"delays\", ascending=True)\n",
        "\n",
        "#plt.bar(tests['UniqueCarrier'], tests_pd['delays'],)\n",
        "print('YV is the busiest airport.')"
      ],
      "execution_count": null,
      "outputs": []
    },
    {
      "cell_type": "markdown",
      "metadata": {
        "id": "kjX-DXg6cDrO"
      },
      "source": [
        "  * Of the 2008 flights that are *actually delayed*, think about:\n",
        "    * Which 10 U.S. airlines have the most delays?\n",
        "    * Which 10 U.S. airlines have the longest average delay time?\n",
        "    * Which 10 U.S. airports have the most delays?\n",
        "    * Which 10 U.S. airports have the longest average\n",
        "    "
      ]
    },
    {
      "cell_type": "code",
      "metadata": {
        "id": "alCAMxMub3T4"
      },
      "source": [
        "# Which 10 U.S. airlines have the most delays\n",
        "import pandas as pd \n",
        "delay_df = flights_df[flights_df['ArrDelay'] > 0] #removing any numbers that are 0 and negative\n",
        "delay_df = flights_df[flights_df['DepDelay'] > 0] #removing any numbers that are 0 and negative\n",
        "delay_df = pd.DataFrame(delay_df[['ArrDelay', 'DepDelay']])\n",
        "delay_df['UniqueCarrier'] = flights_df['UniqueCarrier']\n",
        "delay_df['SumofDelays'] = delay_df['ArrDelay'] + delay_df['DepDelay']\n",
        "df = pd.DataFrame(delay_df)\n",
        "df = delay_df['SumofDelays'].sort_values(ascending=False)\n",
        "_delay = delay_df.loc[df.index, 'UniqueCarrier'].unique()[:10].tolist()\n",
        "\n",
        "print(\"Here are the top 10 airlines by delays: \")\n",
        "_delay"
      ],
      "execution_count": null,
      "outputs": []
    },
    {
      "cell_type": "code",
      "metadata": {
        "id": "ssTyioK0qJF5"
      },
      "source": [
        "#Which 10 U.S. airlines have the longest average delay time?\n",
        "import pandas as pd\n",
        "import matplotlib.pyplot as plt\n",
        "\n",
        "delay_df = pd.DataFrame()\n",
        "delay_df = flights_df[flights_df['ArrDelay'] > 0] #removing any numbers that are 0 and negative\n",
        "delay_df = flights_df[flights_df['DepDelay'] > 0] #removing any numbers that are 0 and negative\n",
        "delay_df['UniqueCarrier'] = flights_df['UniqueCarrier']\n",
        "delay_df['SumofDelays'] = delay_df['ArrDelay'] + delay_df['DepDelay']\n",
        "delay = delay_df.groupby('UniqueCarrier')[['SumofDelays']].mean().sort_values(by ='SumofDelays', ascending=False).head(10)\n",
        "delay.plot(kind = 'bar')\n",
        "\n",
        "print(\"The 10 U.S. airlines that have the longest average delay time are shown below:\")\n",
        "plt.show()"
      ],
      "execution_count": null,
      "outputs": []
    },
    {
      "cell_type": "code",
      "metadata": {
        "id": "j_g9XpHzqJeO"
      },
      "source": [
        "# Which 10 U.S. airports have the most delays\n",
        "import pandas as pd \n",
        "\n",
        "delay_df = flights_df[flights_df['DepDelay'] > 0] #removing any numbers that are 0 and negative\n",
        "delay_df = pd.DataFrame(delay_df['DepDelay'])\n",
        "delay_df['Origin'] = flights_df['Origin']\n",
        "delay_df['SumofDelays'] = delay_df['DepDelay']\n",
        "df = pd.DataFrame(delay_df)\n",
        "df = delay_df['SumofDelays'].sort_values(ascending=False)\n",
        "_delay = delay_df.loc[df.index, 'Origin'].unique()[:10].tolist()\n",
        "\n",
        "print(\"Here are the top 10 airports by delays: \")\n",
        "_delay\n"
      ],
      "execution_count": null,
      "outputs": []
    },
    {
      "cell_type": "code",
      "metadata": {
        "id": "XletWpDUqJwD"
      },
      "source": [
        "#Which 10 U.S. airports have the longest average delay time?\n",
        "import pandas as pd\n",
        "import matplotlib.pyplot as plt\n",
        "\n",
        "delay_df = flights_df[flights_df['DepDelay'] > 0] #removing any numbers that are 0 and negative\n",
        "delay_df['Origin'] = flights_df['Origin']\n",
        "delay = delay_df.groupby('Origin')[['DepDelay']].mean().sort_values(by ='DepDelay', ascending=False).head(10)\n",
        "delay.plot(kind = 'bar')\n",
        "\n",
        "print(\"The 10 U.S. airports that have the longest average delay time are shown below:\")\n",
        "plt.show()"
      ],
      "execution_count": null,
      "outputs": []
    },
    {
      "cell_type": "markdown",
      "metadata": {
        "id": "AVCGFiHYcHdE"
      },
      "source": [
        "  * Are there patterns on how flight delays are distributed across different months of the year?\n",
        "  \n",
        "*Yes, as you can see, the delays are pretty consistent throughout the year, but right around Christmas time, the frequency of long delays increases substantially.*"
      ]
    },
    {
      "cell_type": "code",
      "metadata": {
        "id": "dTcG_vCub7Tp"
      },
      "source": [
        "import matplotlib.pyplot as plt\n",
        "import seaborn as sns\n",
        "import numpy as np\n",
        "\n",
        "# Question 3\n",
        "months = flights_df['Month'].values\n",
        "days = flights_df['DayofMonth'].values\n",
        "\n",
        "# this is a dictionary that stores how many days occur before the first of\n",
        "# any given month in a leap year (2008)\n",
        "daysBeforeMonth = {\n",
        "    1 : 0,\n",
        "    2 : 31,\n",
        "    3 : 60,\n",
        "    4 : 91,\n",
        "    5 : 121,\n",
        "    6 : 152,\n",
        "    7 : 182,\n",
        "    8 : 213,\n",
        "    9 : 244,\n",
        "    10 : 274,\n",
        "    11 : 305,\n",
        "    12 : 335,\n",
        "    13 : 366\n",
        "}\n",
        "\n",
        "# This is a metric to accurately show what day it is relative to the current yr\n",
        "dayOfYear = []\n",
        "for index in range(len(months)):\n",
        "  dayOfYear.append(daysBeforeMonth[months[index]] + days[index])\n",
        "delays = flights_df['DepDelay'].values\n",
        "\n",
        "plt.scatter(dayOfYear, delays, s = [1] * len(months)) # Plot the Data\n",
        "\n",
        "for i in range(1, 14): # draw lines to represent the months of the year\n",
        "  plt.plot([daysBeforeMonth[i],daysBeforeMonth[i]],[delays.min(),delays.max()],\n",
        "           color='black', linestyle='dashed')\n",
        "  \n",
        "plt.title(\"How Long Flights are Delayed on Different Days of the Year\")\n",
        "plt.xlabel(\"Day of the Year\")\n",
        "plt.ylabel(\"How Long the Flight was Delayed\")\n",
        "plt.show()"
      ],
      "execution_count": null,
      "outputs": []
    },
    {
      "cell_type": "markdown",
      "metadata": {
        "id": "2IY331QgBEm5"
      },
      "source": [
        "## Exercise 2: Ethical Implications"
      ]
    },
    {
      "cell_type": "markdown",
      "metadata": {
        "id": "uK8XzfVHLi1K"
      },
      "source": [
        "Even the most basic of data manipulations has the potential to affect segments of the population in different ways. It is important to consider how your code might positively and negatively affect different types of users.\n",
        "\n",
        "In this section of the project, you will reflect on the ethical implications of your analysis."
      ]
    },
    {
      "cell_type": "markdown",
      "metadata": {
        "id": "BqyxriWE53Du"
      },
      "source": [
        "### Student Solution"
      ]
    },
    {
      "cell_type": "markdown",
      "metadata": {
        "id": "_U3L0F9FLmwa"
      },
      "source": [
        "**Positive Impact**\n",
        "\n",
        "Your analysis is trying to solve a problem. Think about who will benefit if the problem is solved, and write a brief narrative about how the model will help."
      ]
    },
    {
      "cell_type": "markdown",
      "metadata": {
        "id": "g582VerYL0so"
      },
      "source": [
        "*The main entities that would benefit from this kind of analysis are airlines and airports. This kind of data is great for discovering how and why delays occur, and in turn how to prevent them in the future. For example, in the holidays long delays are more frequent, so it might be wise to increase the magnitude of flights during that time period if possible.*"
      ]
    },
    {
      "cell_type": "markdown",
      "metadata": {
        "id": "ALr018eQMuUw"
      },
      "source": [
        "**Negative Impact**\n",
        "\n",
        "Solutions usually don't have a universal benefit. Think about who might be negatively impacted by your analysis. This person or persons might not be directly considered in the analysis, but they might be impacted indirectly."
      ]
    },
    {
      "cell_type": "markdown",
      "metadata": {
        "id": "We8_W4WtNDLw"
      },
      "source": [
        "*A group that might be harmed from this data analysis is flight staff, like pilots, and flight attendants. In my example above, I talked about how this data might lead to the conclusion that there should be more flights avaliable during Christmas/New Years season. A natural consequence of this would be making more flight staff have to work over the holidays, which isn't super fair to them.*"
      ]
    },
    {
      "cell_type": "markdown",
      "metadata": {
        "id": "07J-8ljpL85I"
      },
      "source": [
        "**Bias**\n",
        "\n",
        "Data analysis can be biased for many reasons. The bias can come from the data itself (e.g. sampling, data collection methods, available sources), and from the interpretation of the analysis outcome.\n",
        "\n",
        "Think of at least two ways that bias might have been introduced to your analysis and explain them below."
      ]
    },
    {
      "cell_type": "markdown",
      "metadata": {
        "id": "Jg_PSw3NMyFX"
      },
      "source": [
        "*One source of bias we ran in to in our analysis came in our month by month analysis. The months in a year have differing amounts of days, so longer months should have more delays. This can cause longer months to look like they have a disproportionately bad delay freqency, when in reality they just have a greater total number of delays.*\n",
        "\n",
        "*Another source of bias in our analysis comes from an overly narrow view of the data. When looking at the top 10 airports and airlines in terms of delays, the airports and airlines not in the top 10 essentially just get thrown away. We may be missing some general trend in the rest of the data with our current method of analysis.*"
      ]
    },
    {
      "cell_type": "markdown",
      "metadata": {
        "id": "7j9AWdJLMTJI"
      },
      "source": [
        "**Changing the Dataset to Mitigate Bias**\n",
        "\n",
        "The most common way that an analysis is biased is when the dataset itself is biased. Look back at the input data that you used for your analysis. Think about how you might change something about the data to reduce bias in your model.\n",
        "\n",
        "What changes could you make to make your dataset less biased? Consider the data that you have, how and where that data was collected, and what other sources of data might be used to reduce bias.\n",
        "\n",
        "Write a summary of the changes that could be made to your input data."
      ]
    },
    {
      "cell_type": "markdown",
      "metadata": {
        "id": "yzzfrQ-xNZo5"
      },
      "source": [
        "*A bias in the analysis could be group attribution bias. The data only includes big airlines. This can cause small airlines to appear like they never get delays. For example, small airports in this dataset might appear to have next to no delays, but that could be because the planes that fly there aren't included in this dataset. A simple change to fix this would be to include a wide variety of airline sizes in the data collection process.*"
      ]
    },
    {
      "cell_type": "markdown",
      "metadata": {
        "id": "ePs6hpLiMNSx"
      },
      "source": [
        "**Changing the Analysis Questions to Mitigate Bias**\n",
        "\n",
        "Are there any ways to reduce bias by changing the analysis itself? This could include modifying the choice of questions you ask, the approach you take to answer the questions, etc.\n",
        "\n",
        "Write a brief summary of any changes that you could make to help reduce bias in your analysis."
      ]
    },
    {
      "cell_type": "markdown",
      "metadata": {
        "id": "bZ3PS8bRNRCv"
      },
      "source": [
        "*Since the analysis has an overly narrow view of the dataset, we could modify the questions to ask about general trends or patterns in the data instead of just the top ten airports.*"
      ]
    },
    {
      "cell_type": "markdown",
      "metadata": {
        "id": "YYY7lk55MgdX"
      },
      "source": [
        "**Mitigating Bias Downstream**\n",
        "\n",
        "While analysis can point to suggestions, it is people who make decisions based on them. What processes and/or rules should be in place for people and systems interpreting and acting on the results of your analysis to reduce the bias? Describe these below."
      ]
    },
    {
      "cell_type": "markdown",
      "metadata": {
        "id": "Mp3TkmalNcR-"
      },
      "source": [
        "*One important detail about this data is that it is from 2008, so it might not be indicitive of current trends. Another important detail about this data is that it only includes delayed flights, which is super important to the interpretation of this data. Additionally, this data only includes data from large air carriers, so that needs to be accounted for.*"
      ]
    }
  ]
}